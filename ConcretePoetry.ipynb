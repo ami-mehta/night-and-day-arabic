{
 "cells": [
  {
   "cell_type": "markdown",
   "metadata": {},
   "source": [
    "# Concrete Poetry Composition\n",
    "\n",
    "My first concrete poetry composition:"
   ]
  },
  {
   "cell_type": "code",
   "execution_count": 216,
   "metadata": {},
   "outputs": [],
   "source": [
    "from IPython.display import display, HTML\n",
    "import random\n",
    "def show_html(src):\n",
    "    return display(HTML(src), metadata=dict(isolated=True))"
   ]
  },
  {
   "cell_type": "code",
   "execution_count": 217,
   "metadata": {},
   "outputs": [],
   "source": [
    "html_tmpl = \"\"\"<!DOCTYPE html>\n",
    "<html lang=\"en\">\n",
    "<head>\n",
    "    <meta charset=\"utf-8\">\n",
    "    <title>{title}</title>\n",
    "    <style>\n",
    "    html {{ min-height: 40em; overflow: hidden; background-color: #e0e722 }}\n",
    "    </style>\n",
    "</head>\n",
    "<body>\n",
    "{content}\n",
    "</body>\n",
    "</html>\"\"\""
   ]
  },
  {
   "cell_type": "code",
   "execution_count": 218,
   "metadata": {},
   "outputs": [],
   "source": [
    "divs = []\n",
    "for i in range(50):\n",
    "    x = 10 + i \n",
    "    y = 10 + i\n",
    "    s = i/20\n",
    "    r = i * 5\n",
    "    g = i * 5\n",
    "    b = i * 5\n",
    "    angle = 0.5\n",
    "    myExp = i * 0.1\n",
    "    background = \"255, 255, 255\" if i <= 25 else \"0, 0, 0\"\n",
    "    color = \"255, 255, 255\" if i > 25 else \"0, 0, 0\"\n",
    "    border = \"5px solid #87CEFA\" if i == 49 else \"none\"\n",
    "    this_div = f\"<div style='border: {border};transform: rotate3d(1, 1, 1, {angle}deg); background: rgba({background}, 0.25); color: rgba({color}, 1); font-size: {s}em; position: absolute; left: {x}%; top: {y}%;'><h1>ليلا و نهارا</h1></div>\"\n",
    "    divs.append(this_div)\n",
    "html_src = html_tmpl.format(title=\"Composition\", content=\"\".join(divs))"
   ]
  },
  {
   "cell_type": "code",
   "execution_count": 219,
   "metadata": {},
   "outputs": [
    {
     "name": "stdout",
     "output_type": "stream",
     "text": [
      "<!DOCTYPE html>\n",
      "<html lang=\"en\">\n",
      "<head>\n",
      "    <meta charset=\"utf-8\">\n",
      "    <title>Composition</title>\n",
      "    <style>\n",
      "    html { min-height: 40em; overflow: hidden; background-color: #e0e722 }\n",
      "    </style>\n",
      "</head>\n",
      "<body>\n",
      "<h2>ليلا و نهارا</h2>\n",
      "</body>\n",
      "</html>\n"
     ]
    }
   ],
   "source": [
    "pageContent = \"<h2>ليلا و نهارا</h2>\"\n",
    "interp_src = html_tmpl.format(title=\"Composition\", content=pageContent)\n",
    "print(interp_src)"
   ]
  },
  {
   "cell_type": "code",
   "execution_count": 220,
   "metadata": {
    "scrolled": false
   },
   "outputs": [
    {
     "data": {
      "text/html": [
       "<!DOCTYPE html>\n",
       "<html lang=\"en\">\n",
       "<head>\n",
       "    <meta charset=\"utf-8\">\n",
       "    <title>Composition</title>\n",
       "    <style>\n",
       "    html { min-height: 40em; overflow: hidden; background-color: #e0e722 }\n",
       "    </style>\n",
       "</head>\n",
       "<body>\n",
       "<div style='border: none;transform: rotate3d(1, 1, 1, 0.5deg); background: rgba(255, 255, 255, 0.25); color: rgba(0, 0, 0, 1); font-size: 0.0em; position: absolute; left: 10%; top: 10%;'><h1>ليلا و نهارا</h1></div><div style='border: none;transform: rotate3d(1, 1, 1, 0.5deg); background: rgba(255, 255, 255, 0.25); color: rgba(0, 0, 0, 1); font-size: 0.05em; position: absolute; left: 11%; top: 11%;'><h1>ليلا و نهارا</h1></div><div style='border: none;transform: rotate3d(1, 1, 1, 0.5deg); background: rgba(255, 255, 255, 0.25); color: rgba(0, 0, 0, 1); font-size: 0.1em; position: absolute; left: 12%; top: 12%;'><h1>ليلا و نهارا</h1></div><div style='border: none;transform: rotate3d(1, 1, 1, 0.5deg); background: rgba(255, 255, 255, 0.25); color: rgba(0, 0, 0, 1); font-size: 0.15em; position: absolute; left: 13%; top: 13%;'><h1>ليلا و نهارا</h1></div><div style='border: none;transform: rotate3d(1, 1, 1, 0.5deg); background: rgba(255, 255, 255, 0.25); color: rgba(0, 0, 0, 1); font-size: 0.2em; position: absolute; left: 14%; top: 14%;'><h1>ليلا و نهارا</h1></div><div style='border: none;transform: rotate3d(1, 1, 1, 0.5deg); background: rgba(255, 255, 255, 0.25); color: rgba(0, 0, 0, 1); font-size: 0.25em; position: absolute; left: 15%; top: 15%;'><h1>ليلا و نهارا</h1></div><div style='border: none;transform: rotate3d(1, 1, 1, 0.5deg); background: rgba(255, 255, 255, 0.25); color: rgba(0, 0, 0, 1); font-size: 0.3em; position: absolute; left: 16%; top: 16%;'><h1>ليلا و نهارا</h1></div><div style='border: none;transform: rotate3d(1, 1, 1, 0.5deg); background: rgba(255, 255, 255, 0.25); color: rgba(0, 0, 0, 1); font-size: 0.35em; position: absolute; left: 17%; top: 17%;'><h1>ليلا و نهارا</h1></div><div style='border: none;transform: rotate3d(1, 1, 1, 0.5deg); background: rgba(255, 255, 255, 0.25); color: rgba(0, 0, 0, 1); font-size: 0.4em; position: absolute; left: 18%; top: 18%;'><h1>ليلا و نهارا</h1></div><div style='border: none;transform: rotate3d(1, 1, 1, 0.5deg); background: rgba(255, 255, 255, 0.25); color: rgba(0, 0, 0, 1); font-size: 0.45em; position: absolute; left: 19%; top: 19%;'><h1>ليلا و نهارا</h1></div><div style='border: none;transform: rotate3d(1, 1, 1, 0.5deg); background: rgba(255, 255, 255, 0.25); color: rgba(0, 0, 0, 1); font-size: 0.5em; position: absolute; left: 20%; top: 20%;'><h1>ليلا و نهارا</h1></div><div style='border: none;transform: rotate3d(1, 1, 1, 0.5deg); background: rgba(255, 255, 255, 0.25); color: rgba(0, 0, 0, 1); font-size: 0.55em; position: absolute; left: 21%; top: 21%;'><h1>ليلا و نهارا</h1></div><div style='border: none;transform: rotate3d(1, 1, 1, 0.5deg); background: rgba(255, 255, 255, 0.25); color: rgba(0, 0, 0, 1); font-size: 0.6em; position: absolute; left: 22%; top: 22%;'><h1>ليلا و نهارا</h1></div><div style='border: none;transform: rotate3d(1, 1, 1, 0.5deg); background: rgba(255, 255, 255, 0.25); color: rgba(0, 0, 0, 1); font-size: 0.65em; position: absolute; left: 23%; top: 23%;'><h1>ليلا و نهارا</h1></div><div style='border: none;transform: rotate3d(1, 1, 1, 0.5deg); background: rgba(255, 255, 255, 0.25); color: rgba(0, 0, 0, 1); font-size: 0.7em; position: absolute; left: 24%; top: 24%;'><h1>ليلا و نهارا</h1></div><div style='border: none;transform: rotate3d(1, 1, 1, 0.5deg); background: rgba(255, 255, 255, 0.25); color: rgba(0, 0, 0, 1); font-size: 0.75em; position: absolute; left: 25%; top: 25%;'><h1>ليلا و نهارا</h1></div><div style='border: none;transform: rotate3d(1, 1, 1, 0.5deg); background: rgba(255, 255, 255, 0.25); color: rgba(0, 0, 0, 1); font-size: 0.8em; position: absolute; left: 26%; top: 26%;'><h1>ليلا و نهارا</h1></div><div style='border: none;transform: rotate3d(1, 1, 1, 0.5deg); background: rgba(255, 255, 255, 0.25); color: rgba(0, 0, 0, 1); font-size: 0.85em; position: absolute; left: 27%; top: 27%;'><h1>ليلا و نهارا</h1></div><div style='border: none;transform: rotate3d(1, 1, 1, 0.5deg); background: rgba(255, 255, 255, 0.25); color: rgba(0, 0, 0, 1); font-size: 0.9em; position: absolute; left: 28%; top: 28%;'><h1>ليلا و نهارا</h1></div><div style='border: none;transform: rotate3d(1, 1, 1, 0.5deg); background: rgba(255, 255, 255, 0.25); color: rgba(0, 0, 0, 1); font-size: 0.95em; position: absolute; left: 29%; top: 29%;'><h1>ليلا و نهارا</h1></div><div style='border: none;transform: rotate3d(1, 1, 1, 0.5deg); background: rgba(255, 255, 255, 0.25); color: rgba(0, 0, 0, 1); font-size: 1.0em; position: absolute; left: 30%; top: 30%;'><h1>ليلا و نهارا</h1></div><div style='border: none;transform: rotate3d(1, 1, 1, 0.5deg); background: rgba(255, 255, 255, 0.25); color: rgba(0, 0, 0, 1); font-size: 1.05em; position: absolute; left: 31%; top: 31%;'><h1>ليلا و نهارا</h1></div><div style='border: none;transform: rotate3d(1, 1, 1, 0.5deg); background: rgba(255, 255, 255, 0.25); color: rgba(0, 0, 0, 1); font-size: 1.1em; position: absolute; left: 32%; top: 32%;'><h1>ليلا و نهارا</h1></div><div style='border: none;transform: rotate3d(1, 1, 1, 0.5deg); background: rgba(255, 255, 255, 0.25); color: rgba(0, 0, 0, 1); font-size: 1.15em; position: absolute; left: 33%; top: 33%;'><h1>ليلا و نهارا</h1></div><div style='border: none;transform: rotate3d(1, 1, 1, 0.5deg); background: rgba(255, 255, 255, 0.25); color: rgba(0, 0, 0, 1); font-size: 1.2em; position: absolute; left: 34%; top: 34%;'><h1>ليلا و نهارا</h1></div><div style='border: none;transform: rotate3d(1, 1, 1, 0.5deg); background: rgba(255, 255, 255, 0.25); color: rgba(0, 0, 0, 1); font-size: 1.25em; position: absolute; left: 35%; top: 35%;'><h1>ليلا و نهارا</h1></div><div style='border: none;transform: rotate3d(1, 1, 1, 0.5deg); background: rgba(0, 0, 0, 0.25); color: rgba(255, 255, 255, 1); font-size: 1.3em; position: absolute; left: 36%; top: 36%;'><h1>ليلا و نهارا</h1></div><div style='border: none;transform: rotate3d(1, 1, 1, 0.5deg); background: rgba(0, 0, 0, 0.25); color: rgba(255, 255, 255, 1); font-size: 1.35em; position: absolute; left: 37%; top: 37%;'><h1>ليلا و نهارا</h1></div><div style='border: none;transform: rotate3d(1, 1, 1, 0.5deg); background: rgba(0, 0, 0, 0.25); color: rgba(255, 255, 255, 1); font-size: 1.4em; position: absolute; left: 38%; top: 38%;'><h1>ليلا و نهارا</h1></div><div style='border: none;transform: rotate3d(1, 1, 1, 0.5deg); background: rgba(0, 0, 0, 0.25); color: rgba(255, 255, 255, 1); font-size: 1.45em; position: absolute; left: 39%; top: 39%;'><h1>ليلا و نهارا</h1></div><div style='border: none;transform: rotate3d(1, 1, 1, 0.5deg); background: rgba(0, 0, 0, 0.25); color: rgba(255, 255, 255, 1); font-size: 1.5em; position: absolute; left: 40%; top: 40%;'><h1>ليلا و نهارا</h1></div><div style='border: none;transform: rotate3d(1, 1, 1, 0.5deg); background: rgba(0, 0, 0, 0.25); color: rgba(255, 255, 255, 1); font-size: 1.55em; position: absolute; left: 41%; top: 41%;'><h1>ليلا و نهارا</h1></div><div style='border: none;transform: rotate3d(1, 1, 1, 0.5deg); background: rgba(0, 0, 0, 0.25); color: rgba(255, 255, 255, 1); font-size: 1.6em; position: absolute; left: 42%; top: 42%;'><h1>ليلا و نهارا</h1></div><div style='border: none;transform: rotate3d(1, 1, 1, 0.5deg); background: rgba(0, 0, 0, 0.25); color: rgba(255, 255, 255, 1); font-size: 1.65em; position: absolute; left: 43%; top: 43%;'><h1>ليلا و نهارا</h1></div><div style='border: none;transform: rotate3d(1, 1, 1, 0.5deg); background: rgba(0, 0, 0, 0.25); color: rgba(255, 255, 255, 1); font-size: 1.7em; position: absolute; left: 44%; top: 44%;'><h1>ليلا و نهارا</h1></div><div style='border: none;transform: rotate3d(1, 1, 1, 0.5deg); background: rgba(0, 0, 0, 0.25); color: rgba(255, 255, 255, 1); font-size: 1.75em; position: absolute; left: 45%; top: 45%;'><h1>ليلا و نهارا</h1></div><div style='border: none;transform: rotate3d(1, 1, 1, 0.5deg); background: rgba(0, 0, 0, 0.25); color: rgba(255, 255, 255, 1); font-size: 1.8em; position: absolute; left: 46%; top: 46%;'><h1>ليلا و نهارا</h1></div><div style='border: none;transform: rotate3d(1, 1, 1, 0.5deg); background: rgba(0, 0, 0, 0.25); color: rgba(255, 255, 255, 1); font-size: 1.85em; position: absolute; left: 47%; top: 47%;'><h1>ليلا و نهارا</h1></div><div style='border: none;transform: rotate3d(1, 1, 1, 0.5deg); background: rgba(0, 0, 0, 0.25); color: rgba(255, 255, 255, 1); font-size: 1.9em; position: absolute; left: 48%; top: 48%;'><h1>ليلا و نهارا</h1></div><div style='border: none;transform: rotate3d(1, 1, 1, 0.5deg); background: rgba(0, 0, 0, 0.25); color: rgba(255, 255, 255, 1); font-size: 1.95em; position: absolute; left: 49%; top: 49%;'><h1>ليلا و نهارا</h1></div><div style='border: none;transform: rotate3d(1, 1, 1, 0.5deg); background: rgba(0, 0, 0, 0.25); color: rgba(255, 255, 255, 1); font-size: 2.0em; position: absolute; left: 50%; top: 50%;'><h1>ليلا و نهارا</h1></div><div style='border: none;transform: rotate3d(1, 1, 1, 0.5deg); background: rgba(0, 0, 0, 0.25); color: rgba(255, 255, 255, 1); font-size: 2.05em; position: absolute; left: 51%; top: 51%;'><h1>ليلا و نهارا</h1></div><div style='border: none;transform: rotate3d(1, 1, 1, 0.5deg); background: rgba(0, 0, 0, 0.25); color: rgba(255, 255, 255, 1); font-size: 2.1em; position: absolute; left: 52%; top: 52%;'><h1>ليلا و نهارا</h1></div><div style='border: none;transform: rotate3d(1, 1, 1, 0.5deg); background: rgba(0, 0, 0, 0.25); color: rgba(255, 255, 255, 1); font-size: 2.15em; position: absolute; left: 53%; top: 53%;'><h1>ليلا و نهارا</h1></div><div style='border: none;transform: rotate3d(1, 1, 1, 0.5deg); background: rgba(0, 0, 0, 0.25); color: rgba(255, 255, 255, 1); font-size: 2.2em; position: absolute; left: 54%; top: 54%;'><h1>ليلا و نهارا</h1></div><div style='border: none;transform: rotate3d(1, 1, 1, 0.5deg); background: rgba(0, 0, 0, 0.25); color: rgba(255, 255, 255, 1); font-size: 2.25em; position: absolute; left: 55%; top: 55%;'><h1>ليلا و نهارا</h1></div><div style='border: none;transform: rotate3d(1, 1, 1, 0.5deg); background: rgba(0, 0, 0, 0.25); color: rgba(255, 255, 255, 1); font-size: 2.3em; position: absolute; left: 56%; top: 56%;'><h1>ليلا و نهارا</h1></div><div style='border: none;transform: rotate3d(1, 1, 1, 0.5deg); background: rgba(0, 0, 0, 0.25); color: rgba(255, 255, 255, 1); font-size: 2.35em; position: absolute; left: 57%; top: 57%;'><h1>ليلا و نهارا</h1></div><div style='border: none;transform: rotate3d(1, 1, 1, 0.5deg); background: rgba(0, 0, 0, 0.25); color: rgba(255, 255, 255, 1); font-size: 2.4em; position: absolute; left: 58%; top: 58%;'><h1>ليلا و نهارا</h1></div><div style='border: 5px solid #87CEFA;transform: rotate3d(1, 1, 1, 0.5deg); background: rgba(0, 0, 0, 0.25); color: rgba(255, 255, 255, 1); font-size: 2.45em; position: absolute; left: 59%; top: 59%;'><h1>ليلا و نهارا</h1></div>\n",
       "</body>\n",
       "</html>"
      ],
      "text/plain": [
       "<IPython.core.display.HTML object>"
      ]
     },
     "metadata": {
      "isolated": true
     },
     "output_type": "display_data"
    }
   ],
   "source": [
    "show_html(html_src)"
   ]
  },
  {
   "cell_type": "code",
   "execution_count": 221,
   "metadata": {},
   "outputs": [
    {
     "data": {
      "text/plain": [
       "10967"
      ]
     },
     "execution_count": 221,
     "metadata": {},
     "output_type": "execute_result"
    }
   ],
   "source": [
    "open(\"index.html\", \"w\").write(html_src)"
   ]
  },
  {
   "cell_type": "code",
   "execution_count": 223,
   "metadata": {},
   "outputs": [],
   "source": [
    "!open index.html"
   ]
  }
 ],
 "metadata": {
  "kernelspec": {
   "display_name": "Python 3",
   "language": "python",
   "name": "python3"
  },
  "language_info": {
   "codemirror_mode": {
    "name": "ipython",
    "version": 3
   },
   "file_extension": ".py",
   "mimetype": "text/x-python",
   "name": "python",
   "nbconvert_exporter": "python",
   "pygments_lexer": "ipython3",
   "version": "3.8.5"
  }
 },
 "nbformat": 4,
 "nbformat_minor": 4
}
